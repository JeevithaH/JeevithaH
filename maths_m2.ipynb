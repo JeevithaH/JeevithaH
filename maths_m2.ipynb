{
  "nbformat": 4,
  "nbformat_minor": 0,
  "metadata": {
    "colab": {
      "provenance": [],
      "authorship_tag": "ABX9TyPirCncnPfObRK3A6YDulio",
      "include_colab_link": true
    },
    "kernelspec": {
      "name": "python3",
      "display_name": "Python 3"
    },
    "language_info": {
      "name": "python"
    }
  },
  "cells": [
    {
      "cell_type": "markdown",
      "metadata": {
        "id": "view-in-github",
        "colab_type": "text"
      },
      "source": [
        "<a href=\"https://colab.research.google.com/github/JeevithaH/JeevithaH/blob/main/maths_m2.ipynb\" target=\"_parent\"><img src=\"https://colab.research.google.com/assets/colab-badge.svg\" alt=\"Open In Colab\"/></a>"
      ]
    },
    {
      "cell_type": "code",
      "source": [
        "#coode for area of 1+cos(t)\n",
        "from sympy import *\n",
        "r,t,a=symbols('r,t,a')\n",
        "w=2*integrate(r,(r,0,a*(1+cos(t))),(t,0,pi))\n",
        "print(w)"
      ],
      "metadata": {
        "colab": {
          "base_uri": "https://localhost:8080/"
        },
        "id": "Ev01U4CtTGpH",
        "outputId": "7e8a03e6-336f-4dd1-a951-7f5b16ec09ea"
      },
      "execution_count": 10,
      "outputs": [
        {
          "output_type": "stream",
          "name": "stdout",
          "text": [
            "3*pi*a**2/2\n"
          ]
        }
      ]
    },
    {
      "cell_type": "code",
      "source": [
        "#code for  beta(3,5) gamma(5)\n",
        "from sympy import *\n",
        "a=float(input(\"enter the vale of a :\"))\n",
        "b=float(input(\"enter the value of b:\"))\n",
        "k=beta(a,b)\n",
        "l=gamma(b)\n",
        "print(\"the beta is : \\n\",k)\n",
        "print(\"the gamma is :\\n\",l)"
      ],
      "metadata": {
        "colab": {
          "base_uri": "https://localhost:8080/"
        },
        "id": "W3O_Da4fTojU",
        "outputId": "e77b8f24-0496-4e4c-cc72-e3c031875cc7"
      },
      "execution_count": 11,
      "outputs": [
        {
          "output_type": "stream",
          "name": "stdout",
          "text": [
            "enter the vale of a :3\n",
            "enter the value of b:5\n",
            "the beta is : \n",
            " 0.00952380952380952\n",
            "the gamma is :\n",
            " 24.0000000000000\n"
          ]
        }
      ]
    },
    {
      "cell_type": "code",
      "source": [
        "#find the gradient of x**2y+2xz-4\n",
        "from sympy . vector import *\n",
        "N=CoordSys3D('N')\n",
        "A=N.x**2*N.y+2*N.x*N.z-4\n",
        "dev=Del()\n",
        "display(dev(A))\n",
        "print(f\"the gradient {A} is \\n\")\n",
        "grad=gradient(A)\n",
        "display(grad)"
      ],
      "metadata": {
        "colab": {
          "base_uri": "https://localhost:8080/",
          "height": 116
        },
        "id": "SBLFRJNKURDb",
        "outputId": "a30b3316-271a-4181-a18a-7dc40b3607a2"
      },
      "execution_count": 13,
      "outputs": [
        {
          "output_type": "display_data",
          "data": {
            "text/plain": [
              "(Derivative(N.x**2*N.y + 2*N.x*N.z - 4, N.x))*N.i + (Derivative(N.x**2*N.y + 2*N.x*N.z - 4, N.y))*N.j + (Derivative(N.x**2*N.y + 2*N.x*N.z - 4, N.z))*N.k"
            ],
            "text/latex": "$\\displaystyle \\left(\\frac{\\partial}{\\partial \\mathbf{{x}_{N}}} \\left(\\mathbf{{x}_{N}}^{2} \\mathbf{{y}_{N}} + 2 \\mathbf{{x}_{N}} \\mathbf{{z}_{N}} - 4\\right)\\right)\\mathbf{\\hat{i}_{N}} + \\left(\\frac{\\partial}{\\partial \\mathbf{{y}_{N}}} \\left(\\mathbf{{x}_{N}}^{2} \\mathbf{{y}_{N}} + 2 \\mathbf{{x}_{N}} \\mathbf{{z}_{N}} - 4\\right)\\right)\\mathbf{\\hat{j}_{N}} + \\left(\\frac{\\partial}{\\partial \\mathbf{{z}_{N}}} \\left(\\mathbf{{x}_{N}}^{2} \\mathbf{{y}_{N}} + 2 \\mathbf{{x}_{N}} \\mathbf{{z}_{N}} - 4\\right)\\right)\\mathbf{\\hat{k}_{N}}$"
          },
          "metadata": {}
        },
        {
          "output_type": "stream",
          "name": "stdout",
          "text": [
            "the gradient N.x**2*N.y + 2*N.x*N.z - 4 is \n",
            "\n"
          ]
        },
        {
          "output_type": "display_data",
          "data": {
            "text/plain": [
              "(2*N.x*N.y + 2*N.z)*N.i + N.x**2*N.j + 2*N.x*N.k"
            ],
            "text/latex": "$\\displaystyle \\left(2 \\mathbf{{x}_{N}} \\mathbf{{y}_{N}} + 2 \\mathbf{{z}_{N}}\\right)\\mathbf{\\hat{i}_{N}} + \\left(\\mathbf{{x}_{N}}^{2}\\right)\\mathbf{\\hat{j}_{N}} + \\left(2 \\mathbf{{x}_{N}}\\right)\\mathbf{\\hat{k}_{N}}$"
          },
          "metadata": {}
        }
      ]
    },
    {
      "cell_type": "code",
      "source": [
        "# regular falsi\n",
        "from sympy import *\n",
        "x=Symbol('x')\n",
        "g=input(\"enter the function \")\n",
        "f=lambdify(x,g)\n",
        "N=int(input(\"enter the number of iteration\"))\n",
        "a=float(input(\"enter the value of a :\"))\n",
        "b=float(input(\"enter the value of b :\"))\n",
        "for i in range (1,N+1):\n",
        "  c=(a*f(b)-b*f(a))/(f(b)-f(a))\n",
        "  if ((f(a)*f(c))<0):\n",
        "    b=c\n",
        "  else :\n",
        "    a=c\n",
        "  print(\"the iteration %d \\t and root %.3f \\t function %.3f\"%(i,c,f(c)))\n",
        "\n"
      ],
      "metadata": {
        "colab": {
          "base_uri": "https://localhost:8080/"
        },
        "id": "3uRWg_izVPlW",
        "outputId": "519a6e7a-b832-4894-854c-035565e89128"
      },
      "execution_count": 2,
      "outputs": [
        {
          "output_type": "stream",
          "name": "stdout",
          "text": [
            "enter the function x**3-2*x-5\n",
            "enter the number of iteration5\n",
            "enter the value of a :2\n",
            "enter the value of b :3\n",
            "the iteration 1 \t and root 2.059 \t function -0.391\n",
            "the iteration 2 \t and root 2.081 \t function -0.147\n",
            "the iteration 3 \t and root 2.090 \t function -0.055\n",
            "the iteration 4 \t and root 2.093 \t function -0.020\n",
            "the iteration 5 \t and root 2.094 \t function -0.007\n"
          ]
        }
      ]
    },
    {
      "cell_type": "code",
      "source": [
        "#newton raphs\n",
        "from sympy import *\n",
        "x=Symbol('x')\n",
        "g=input(\"enter the function\")\n",
        "f=lambdify(x,g)\n",
        "dg=diff(g)\n",
        "df=lambdify(x,dg)\n",
        "x0=float(input(\"enter the initial value\"))\n",
        "n=int(input(\"enter the number of interation :\"))\n",
        "for i in range (1,n+1):\n",
        "  x1=x0-(f(x0)/df(x0))\n",
        "  print(\"interation %d \\t root %0.3f \\t function %0.3f \"%(i,x1,f(x1)))\n",
        "  x0=x1"
      ],
      "metadata": {
        "colab": {
          "base_uri": "https://localhost:8080/"
        },
        "id": "n7nFu5TAYT_f",
        "outputId": "f50cdeca-40ac-4b83-b0cc-5729890983b5"
      },
      "execution_count": 9,
      "outputs": [
        {
          "output_type": "stream",
          "name": "stdout",
          "text": [
            "enter the function3*x-cos(x)-1\n",
            "enter the initial value1\n",
            "enter the number of interation :5\n",
            "interation 1 \t root 0.620 \t function 0.046 \n",
            "interation 2 \t root 0.607 \t function 0.000 \n",
            "interation 3 \t root 0.607 \t function 0.000 \n",
            "interation 4 \t root 0.607 \t function 0.000 \n",
            "interation 5 \t root 0.607 \t function -0.000 \n"
          ]
        }
      ]
    },
    {
      "cell_type": "code",
      "source": [
        "#simpsonm 1/3\n",
        "def simson(f,a,b,n):\n",
        "  h=(b-a)/n\n",
        "  s=f(a)+f(b)\n",
        "  for i in range (1,n,3):\n",
        "    s+=3*f(a+h*i)\n",
        "  for i in range (3,n-1,3):\n",
        "    s+=3*f(a+h*i)\n",
        "  for i in range (2,n-2,3):\n",
        "    s+=2*f(a+h*i)\n",
        "  return s*3*h/8\n",
        "def f(x):\n",
        "  return 1/(1+x**2)\n",
        "result=simson(f,0,6,6)\n",
        "print(\"result is %.3f\"%result)"
      ],
      "metadata": {
        "colab": {
          "base_uri": "https://localhost:8080/"
        },
        "id": "308bFccaaqlx",
        "outputId": "91718101-b358-40da-a843-d38b1146c313"
      },
      "execution_count": 12,
      "outputs": [
        {
          "output_type": "stream",
          "name": "stdout",
          "text": [
            "result is 1.276\n"
          ]
        }
      ]
    },
    {
      "cell_type": "code",
      "source": [
        "#trapizoidal function\n",
        "def my_fun(x):\n",
        "  return 1/(1+x**2)\n",
        "def trapizoidal(x,x0,n):\n",
        "  h=(x-x0)/n\n",
        "  integration=my_fun(a)+my_fun(b)\n",
        "  for i in range (1,n):\n",
        "    k=x0+i*h\n",
        "    integration=integration+2*my_fun(k)\n",
        "    integration=integration*h/2\n",
        "  return integration\n",
        "trapizoidal(0,5,10)"
      ],
      "metadata": {
        "colab": {
          "base_uri": "https://localhost:8080/"
        },
        "id": "MtBw2JIBcUF2",
        "outputId": "d611cddc-5314-47de-98fc-68ce77b329c2"
      },
      "execution_count": 13,
      "outputs": [
        {
          "output_type": "execute_result",
          "data": {
            "text/plain": [
              "-0.3457823197231148"
            ]
          },
          "metadata": {},
          "execution_count": 13
        }
      ]
    },
    {
      "cell_type": "code",
      "source": [
        "def Miles(g,x0,h,y0,y1,y2,y3):\n",
        "  x,y=symbols('x,y')\n",
        "  x1=x0+h\n",
        "  x2=x1+h\n",
        "  x3=x2+h\n",
        "  x4=x3+h\n",
        "  f=lambdify([x,y],g)\n",
        "  y11=f(x0,y0)\n",
        "  y12=f(x1,y1)\n",
        "  y13=f(x2,y2)\n",
        "  y4p=y0+((4*h)/3)*(2*y11-y12+2*y13)\n",
        "  print(\"miles predictor formula is :\",y4p)\n",
        "  y14=f(x4,y4p)\n",
        "  for i in range(1,4):\n",
        "    y4=y2+(((1/3)*h)*(y12+4*y13+y14))\n",
        "    y14=f(x4,y4)\n",
        "    print(\"miles corrector formula for  is %d :\"%i,y14)\n",
        "Miles('x**2+y/2',1,0.1,2,2.156,2.4649,2.7514)\n"
      ],
      "metadata": {
        "colab": {
          "base_uri": "https://localhost:8080/"
        },
        "id": "FC5NvYCadwho",
        "outputId": "349dcbc3-46ac-4ac1-d277-e5f2e6fce8b0"
      },
      "execution_count": 27,
      "outputs": [
        {
          "output_type": "stream",
          "name": "stdout",
          "text": [
            "miles predictor formula is : 2.94092\n",
            "miles corrector formula for  is 1 : 3.465921000000001\n",
            "miles corrector formula for  is 2 : 3.466512016666668\n",
            "miles corrector formula for  is 3 : 3.4665218669444453\n"
          ]
        }
      ]
    },
    {
      "cell_type": "code",
      "source": [
        "import numpy as np\n",
        "from sympy import *\n",
        "def Rk(g,x0,h,y0,xn):\n",
        "  x,y=symbols('x,y')\n",
        "  f=lambdify([x,y],g)\n",
        "  xt=x0+h\n",
        "  Y=[y0]\n",
        "  while xt<=xn:\n",
        "    k1=h*f(x0,y0)\n",
        "    k2=h*f(x0+h/2,y0+k1/2)\n",
        "    k3=h*f(x0+h/2,y0+k2/2)\n",
        "    k4=h*f(x0+h,y0+k3)\n",
        "    y1=y0+(1/6)*(k1+2*k2+2*k3+k4)\n",
        "    Y.append(y1)\n",
        "    x0=xt\n",
        "    xt=xt+h\n",
        "    y0=y1\n",
        "  return np.round(Y,2)\n",
        "Rk('1+(y/x)',1,0.2,2,2)\n",
        "\n"
      ],
      "metadata": {
        "colab": {
          "base_uri": "https://localhost:8080/"
        },
        "id": "oSMsAaxmiKUE",
        "outputId": "76d1a1c6-d41f-484e-f3e1-6203ad9fbcee"
      },
      "execution_count": 37,
      "outputs": [
        {
          "output_type": "execute_result",
          "data": {
            "text/plain": [
              "array([2.  , 2.62, 3.27, 3.95, 4.66, 5.39])"
            ]
          },
          "metadata": {},
          "execution_count": 37
        }
      ]
    }
  ]
}